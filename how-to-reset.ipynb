{
 "cells": [
  {
   "metadata": {},
   "cell_type": "markdown",
   "source": [
    "# Resetting a Notebook\n",
    "\n",
    "Sometimes, you might want to reset everything. (It shouldn't be needed in this notebook, but we will do this in future exercises. To start the whole notebook over, you have several options:\n",
    "\n",
    "1. \"Restart the Kernel\" by selecting one of the options seen here\n",
    "    - <img src=\"images/restart-kernel.png\" width=\"552px\" height=\"172px\" alt=\"Screenshot of Kernel menu, showing preferred options of Restart and Clear Outputs, or Restart and Run to Selected\">\n",
    "    - This will *not* change anything written in the document or code blocks. It's just a fresh start for \"the computer running your code.\"\n",
    "2."
   ],
   "id": "4270d9f9b76a8d9d"
  },
  {
   "metadata": {},
   "cell_type": "markdown",
   "source": "",
   "id": "f2d10cafbb001326"
  }
 ],
 "metadata": {
  "kernelspec": {
   "display_name": "Python 3",
   "language": "python",
   "name": "python3"
  },
  "language_info": {
   "codemirror_mode": {
    "name": "ipython",
    "version": 2
   },
   "file_extension": ".py",
   "mimetype": "text/x-python",
   "name": "python",
   "nbconvert_exporter": "python",
   "pygments_lexer": "ipython2",
   "version": "2.7.6"
  }
 },
 "nbformat": 4,
 "nbformat_minor": 5
}
