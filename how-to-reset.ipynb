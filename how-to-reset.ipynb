{
 "cells": [
  {
   "cell_type": "markdown",
   "id": "4270d9f9b76a8d9d",
   "metadata": {},
   "source": [
    "# Resetting a Notebook\n",
    "\n",
    "Sometimes, you might want to reset everything. (It shouldn't be needed in this notebook, but we will do this in future exercises. To start the whole notebook over, you have several options:\n",
    "\n",
    "1. \"Restart the Kernel\" by selecting one of the options seen here\n",
    "    - <img src=\"images/restart-kernel.png\" width=\"552px\" height=\"172px\" alt=\"Screenshot of Kernel menu, showing preferred options of Restart and Clear Outputs, or Restart and Run to Selected\">\n",
    "    - This will *not* change anything written in the document or code blocks. It's just a fresh start for \"the computer running your code.\"\n",
    "2. You may also hit the restart button on the toolbar as seen here:\n",
    "    - <img src=\"images/restart-button.png\" width=\"328px\" height=\"124px\" alt=\"Screenshot of Jupyter Notebook toolbar with restart button circled\">\n",
    "    - This option does *not* clear the outputs for each code block.\n",
    "\n",
    "## [Back](./turtle-quest.ipynb)"
   ]
  },
  {
   "cell_type": "markdown",
   "id": "f2d10cafbb001326",
   "metadata": {},
   "source": []
  }
 ],
 "metadata": {
  "kernelspec": {
   "display_name": "Python 3 (ipykernel)",
   "language": "python",
   "name": "python3"
  },
  "language_info": {
   "codemirror_mode": {
    "name": "ipython",
    "version": 3
   },
   "file_extension": ".py",
   "mimetype": "text/x-python",
   "name": "python",
   "nbconvert_exporter": "python",
   "pygments_lexer": "ipython3",
   "version": "3.10.16"
  }
 },
 "nbformat": 4,
 "nbformat_minor": 5
}
