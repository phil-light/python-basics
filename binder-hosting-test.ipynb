{
 "cells": [
  {
   "metadata": {},
   "cell_type": "markdown",
   "source": [
    "# Look at this Great Python Code!\n",
    "\n",
    "Man it is so good."
   ],
   "id": "3884e50c577c4157"
  },
  {
   "metadata": {
    "ExecuteTime": {
     "end_time": "2025-06-24T16:09:26.067111Z",
     "start_time": "2025-06-24T16:09:26.063864Z"
    }
   },
   "cell_type": "code",
   "source": [
    "import math\n",
    "print(math.factorial(39))"
   ],
   "id": "fc71acc10ef0c64f",
   "outputs": [
    {
     "name": "stdout",
     "output_type": "stream",
     "text": [
      "20397882081197443358640281739902897356800000000\n"
     ]
    }
   ],
   "execution_count": 2
  },
  {
   "metadata": {
    "ExecuteTime": {
     "end_time": "2025-06-24T16:22:43.615139Z",
     "start_time": "2025-06-24T16:22:31.791911Z"
    }
   },
   "cell_type": "code",
   "source": [
    "import ipyturtle3 as turtle\n",
    "from ipyturtle3 import hold_canvas\n",
    "myCanvas=turtle.Canvas(width=500,height=250)\n",
    "display(myCanvas)\n",
    "myTS=turtle.TurtleScreen(myCanvas)\n",
    "myTS.clear()\n",
    "myTS.bgcolor(\"lightgreen\")\n",
    "bob=turtle.Turtle(myTS)\n",
    "jess=turtle.Turtle(myTS,isHolonomic=True)\n",
    "jess.shape(\"square\")\n",
    "bob.shape(\"turtle\")\n",
    "\n",
    "myTS.delay(200)\n",
    "# Usual turtle Non-holonomic example\n",
    "bob.forward(50)\n",
    "bob.left(90)\n",
    "bob.forward(50)\n",
    "bob.left(90)\n",
    "bob.forward(50)\n",
    "bob.left(90)\n",
    "bob.forward(50)\n",
    "\n",
    "\n",
    "#Holonomic\n",
    "jess.moveleft(200)\n",
    "jess.moveup(100)\n",
    "jess.moveright(100)\n",
    "jess.movedown(100)\n",
    "jess.turnright(45)\n",
    "jess.turn(-45)\n",
    "jess.distance_at_angle(50,45)\n",
    "\n",
    "myTS.clear()\n",
    "\n",
    "# Rainbow benzene\n",
    "colors = ['red', 'purple', 'blue', 'green', 'orange', 'yellow']\n",
    "t = turtle.Turtle(myTS)\n",
    "myTS.bgcolor('black')\n",
    "for x in range(50):\n",
    "    with(hold_canvas(myCanvas)):\n",
    "        t.pencolor(colors[x%6])\n",
    "        t.width(x//100 + 1)\n",
    "        t.forward(x)\n",
    "        t.left(59)"
   ],
   "id": "e32ee7986daade64",
   "outputs": [
    {
     "data": {
      "text/plain": [
       "Canvas(height=250, width=500)"
      ],
      "application/vnd.jupyter.widget-view+json": {
       "version_major": 2,
       "version_minor": 0,
       "model_id": "16183bfb88da40b2b944336b77a1908a"
      }
     },
     "metadata": {},
     "output_type": "display_data"
    },
    {
     "ename": "KeyboardInterrupt",
     "evalue": "",
     "output_type": "error",
     "traceback": [
      "\u001B[31m---------------------------------------------------------------------------\u001B[39m",
      "\u001B[31mKeyboardInterrupt\u001B[39m                         Traceback (most recent call last)",
      "\u001B[36mCell\u001B[39m\u001B[36m \u001B[39m\u001B[32mIn[5]\u001B[39m\u001B[32m, line 25\u001B[39m\n\u001B[32m     21\u001B[39m bob.forward(\u001B[32m50\u001B[39m)\n\u001B[32m     24\u001B[39m \u001B[38;5;66;03m#Holonomic\u001B[39;00m\n\u001B[32m---> \u001B[39m\u001B[32m25\u001B[39m jess.moveleft(\u001B[32m200\u001B[39m)\n\u001B[32m     26\u001B[39m jess.moveup(\u001B[32m100\u001B[39m)\n\u001B[32m     27\u001B[39m jess.moveright(\u001B[32m100\u001B[39m)\n",
      "\u001B[36mFile \u001B[39m\u001B[32m/opt/anaconda3/envs/jetbot/lib/python3.12/site-packages/ipyturtle3/ipyturtle3.py:72\u001B[39m, in \u001B[36mTurtle.moveleft\u001B[39m\u001B[34m(self, distanceOrAngle)\u001B[39m\n\u001B[32m     70\u001B[39m \u001B[38;5;250m    \u001B[39m\u001B[33;03m\"\"\"move turtle left by specified distance\"\"\"\u001B[39;00m\n\u001B[32m     71\u001B[39m     ende = \u001B[38;5;28mself\u001B[39m._position + \u001B[38;5;28mself\u001B[39m._orient * -distanceOrAngle\n\u001B[32m---> \u001B[39m\u001B[32m72\u001B[39m     \u001B[38;5;28mself\u001B[39m._goto(ende)\n\u001B[32m     73\u001B[39m \u001B[38;5;28;01melse\u001B[39;00m:\n\u001B[32m     74\u001B[39m     \u001B[38;5;28mprint\u001B[39m(\u001B[33m\"\u001B[39m\u001B[33mmoveleft: only for holonomic robot\u001B[39m\u001B[33m\"\u001B[39m)\n",
      "\u001B[36mFile \u001B[39m\u001B[32m/opt/anaconda3/envs/jetbot/lib/python3.12/turtle.py:3251\u001B[39m, in \u001B[36mRawTurtle._goto\u001B[39m\u001B[34m(self, end)\u001B[39m\n\u001B[32m   3247\u001B[39m     \u001B[38;5;28;01mif\u001B[39;00m \u001B[38;5;28mself\u001B[39m._drawing:\n\u001B[32m   3248\u001B[39m         screen._drawline(\u001B[38;5;28mself\u001B[39m.drawingLineItem,\n\u001B[32m   3249\u001B[39m                          (start, \u001B[38;5;28mself\u001B[39m._position),\n\u001B[32m   3250\u001B[39m                          \u001B[38;5;28mself\u001B[39m._pencolor, \u001B[38;5;28mself\u001B[39m._pensize, top)\n\u001B[32m-> \u001B[39m\u001B[32m3251\u001B[39m     \u001B[38;5;28mself\u001B[39m._update()\n\u001B[32m   3252\u001B[39m \u001B[38;5;28;01mif\u001B[39;00m \u001B[38;5;28mself\u001B[39m._drawing:\n\u001B[32m   3253\u001B[39m     screen._drawline(\u001B[38;5;28mself\u001B[39m.drawingLineItem, ((\u001B[32m0\u001B[39m, \u001B[32m0\u001B[39m), (\u001B[32m0\u001B[39m, \u001B[32m0\u001B[39m)),\n\u001B[32m   3254\u001B[39m                                    fill=\u001B[33m\"\u001B[39m\u001B[33m\"\u001B[39m, width=\u001B[38;5;28mself\u001B[39m._pensize)\n",
      "\u001B[36mFile \u001B[39m\u001B[32m/opt/anaconda3/envs/jetbot/lib/python3.12/turtle.py:2671\u001B[39m, in \u001B[36mRawTurtle._update\u001B[39m\u001B[34m(self)\u001B[39m\n\u001B[32m   2669\u001B[39m     \u001B[38;5;28mself\u001B[39m._drawturtle()\n\u001B[32m   2670\u001B[39m     screen._update()                  \u001B[38;5;66;03m# TurtleScreenBase\u001B[39;00m\n\u001B[32m-> \u001B[39m\u001B[32m2671\u001B[39m     screen._delay(screen._delayvalue) \u001B[38;5;66;03m# TurtleScreenBase\u001B[39;00m\n\u001B[32m   2672\u001B[39m \u001B[38;5;28;01melse\u001B[39;00m:\n\u001B[32m   2673\u001B[39m     \u001B[38;5;28mself\u001B[39m._update_data()\n",
      "\u001B[36mFile \u001B[39m\u001B[32m/opt/anaconda3/envs/jetbot/lib/python3.12/turtle.py:560\u001B[39m, in \u001B[36mTurtleScreenBase._delay\u001B[39m\u001B[34m(self, delay)\u001B[39m\n\u001B[32m    558\u001B[39m \u001B[38;5;28;01mdef\u001B[39;00m\u001B[38;5;250m \u001B[39m\u001B[34m_delay\u001B[39m(\u001B[38;5;28mself\u001B[39m, delay):\n\u001B[32m    559\u001B[39m \u001B[38;5;250m    \u001B[39m\u001B[33;03m\"\"\"Delay subsequent canvas actions for delay ms.\"\"\"\u001B[39;00m\n\u001B[32m--> \u001B[39m\u001B[32m560\u001B[39m     \u001B[38;5;28mself\u001B[39m.cv.after(delay)\n",
      "\u001B[36mFile \u001B[39m\u001B[32m/opt/anaconda3/envs/jetbot/lib/python3.12/site-packages/ipyturtle3/ipyturtle3.py:168\u001B[39m, in \u001B[36mCanvas.after\u001B[39m\u001B[34m(self, ms)\u001B[39m\n\u001B[32m    166\u001B[39m \u001B[38;5;28;01mdef\u001B[39;00m\u001B[38;5;250m \u001B[39m\u001B[34mafter\u001B[39m(\u001B[38;5;28mself\u001B[39m,ms):\n\u001B[32m--> \u001B[39m\u001B[32m168\u001B[39m     time.sleep(ms*\u001B[32m0.001\u001B[39m)\n",
      "\u001B[31mKeyboardInterrupt\u001B[39m: "
     ]
    }
   ],
   "execution_count": 5
  },
  {
   "metadata": {},
   "cell_type": "code",
   "outputs": [],
   "execution_count": null,
   "source": "",
   "id": "58004fb419cd7d9b"
  }
 ],
 "metadata": {
  "kernelspec": {
   "display_name": "Python 3",
   "language": "python",
   "name": "python3"
  },
  "language_info": {
   "codemirror_mode": {
    "name": "ipython",
    "version": 2
   },
   "file_extension": ".py",
   "mimetype": "text/x-python",
   "name": "python",
   "nbconvert_exporter": "python",
   "pygments_lexer": "ipython2",
   "version": "2.7.6"
  }
 },
 "nbformat": 4,
 "nbformat_minor": 5
}
