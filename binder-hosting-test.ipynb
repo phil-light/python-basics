{
 "cells": [
  {
   "metadata": {},
   "cell_type": "markdown",
   "source": [
    "# Look at this Great Python Code!\n",
    "\n",
    "Man it is so good."
   ],
   "id": "3884e50c577c4157"
  },
  {
   "metadata": {
    "ExecuteTime": {
     "end_time": "2025-06-24T16:09:26.067111Z",
     "start_time": "2025-06-24T16:09:26.063864Z"
    }
   },
   "cell_type": "code",
   "source": [
    "import math\n",
    "print(math.factorial(39))"
   ],
   "id": "fc71acc10ef0c64f",
   "outputs": [
    {
     "name": "stdout",
     "output_type": "stream",
     "text": [
      "20397882081197443358640281739902897356800000000\n"
     ]
    }
   ],
   "execution_count": 2
  }
 ],
 "metadata": {
  "kernelspec": {
   "display_name": "Python 3",
   "language": "python",
   "name": "python3"
  },
  "language_info": {
   "codemirror_mode": {
    "name": "ipython",
    "version": 2
   },
   "file_extension": ".py",
   "mimetype": "text/x-python",
   "name": "python",
   "nbconvert_exporter": "python",
   "pygments_lexer": "ipython2",
   "version": "2.7.6"
  }
 },
 "nbformat": 4,
 "nbformat_minor": 5
}
