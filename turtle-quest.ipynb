{
 "cells": [
  {
   "cell_type": "code",
   "id": "initial_id",
   "metadata": {
    "collapsed": true
   },
   "source": [
    "import ipyturtle3 as turtle\n",
    "\n",
    "canvas_width = 500\n",
    "canvas_height = 300\n",
    "\n",
    "maze_canvas=turtle.Canvas(canvas_width, canvas_height)\n",
    "turtle_screen = turtle.TurtleScreen(maze_canvas)\n",
    "turtle_screen.clear()\n",
    "\n"
   ],
   "outputs": [],
   "execution_count": null
  },
  {
   "metadata": {},
   "cell_type": "code",
   "source": [
    "from maze_maker import generate_maze, draw_maze, make_maze_runner\n",
    "\n",
    "cell_size = 20\n",
    "num_maze_columns = canvas_width // cell_size\n",
    "num_maze_rows = canvas_height // cell_size\n",
    "\n",
    "random_maze_number = 434\n",
    "maze = generate_maze(num_maze_rows, num_maze_columns, random_maze_number)\n",
    "\n",
    "display(maze_canvas)\n",
    "draw_maze(turtle_screen, maze_canvas, canvas_width, canvas_height, cell_size, maze)\n",
    "\n",
    "t = make_maze_runner(turtle_screen)"
   ],
   "id": "2cb2a2a8ea47083f",
   "outputs": [],
   "execution_count": null
  },
  {
   "metadata": {},
   "cell_type": "code",
   "source": [
    "from maze_maker import start_maze\n",
    "\n",
    "start_maze(t)\n",
    "step = cell_size*2\n",
    "\n",
    "t.forward(step*2)\n",
    "t.right(90)\n",
    "t.forward(step*2)\n",
    "t.left(90)\n",
    "t.forward(step)\n",
    "t.right(90)\n",
    "t.forward(step)\n",
    "t.left(90)\n",
    "t.forward(step)\n",
    "t.right(90)\n",
    "t.forward(step)\n",
    "t.right(90)\n",
    "t.forward(step * 4)"
   ],
   "id": "29cffb8ef49a51c4",
   "outputs": [],
   "execution_count": null
  }
 ],
 "metadata": {
  "kernelspec": {
   "display_name": "Python 3",
   "language": "python",
   "name": "python3"
  },
  "language_info": {
   "codemirror_mode": {
    "name": "ipython",
    "version": 2
   },
   "file_extension": ".py",
   "mimetype": "text/x-python",
   "name": "python",
   "nbconvert_exporter": "python",
   "pygments_lexer": "ipython2",
   "version": "2.7.6"
  }
 },
 "nbformat": 4,
 "nbformat_minor": 5
}
