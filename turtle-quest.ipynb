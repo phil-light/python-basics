{
 "cells": [
  {
   "cell_type": "markdown",
   "id": "eb00f1269e6dc64d",
   "metadata": {},
   "source": [
    "# Turtle Quest\n",
    "\n",
    "Welcome to our first look at programming in Python! Today we are working with a _notebook_, which combines instructions and runnable code \"blocks\" into a single document. You can read more about the [goals](./goals.ipynb) of today's exercise.\n",
    "\n",
    "## How to Use a Notebook\n",
    "\n",
    "1. **_Read_** the words on the page, go from top to bottom. Order matters a _lot_ in programming!\n",
    "2. When you're ready to run a code block, **select it by clicking on it**\n",
    "    - You will see a blue bar to the left of the current block\n",
    "    - You can edit the code in the block, but the first few blocks in this notebook won't need any changes. Just run them.\n",
    "3. To run a block, **click the ▶ button** in the bar at the top of the book\n",
    "    - <img src=\"images/play-button.png\" height=\"118px\" width=\"318px\" alt=\"Screenshot of Jupyter notebook toolbar with play button circled\">\n",
    "    - In this particular notebook, it's generally fine to run blocks repeatedly. This is not always true!\n",
    "\n",
    "To reset your project, [try this](./how-to-reset.ipynb).\n",
    "\n",
    "## Let's get started!\n",
    "\n",
    "Select the block below and hit ▶ on the toolbar above (or type ctrl+enter on your keyboard.)\n",
    "\n",
    "Running this block will do a few things:\n",
    "- Add \"draw with a turtle\" capabilities to this notebook\n",
    "- Create a canvas where the turtle will walk and paint"
   ]
  },
  {
   "cell_type": "code",
   "execution_count": 1,
   "id": "initial_id",
   "metadata": {
    "collapsed": false,
    "jupyter": {
     "outputs_hidden": false
    }
   },
   "outputs": [
    {
     "name": "stdout",
     "output_type": "stream",
     "text": [
      "Setup Complete\n"
     ]
    }
   ],
   "source": [
    "# We will be drawing with turtles in this notebook; tell the computer that we'd like to do this.\n",
    "import ipyturtle3 as turtle\n",
    "\n",
    "# Create a pair of variables so the computer memorizes how large our drawing canvas will be.\n",
    "canvas_width = 500\n",
    "canvas_height = 300\n",
    "\n",
    "# Create the area on our screen which the turtle will use to move around.\n",
    "maze_canvas = turtle.Canvas(canvas_width, canvas_height)\n",
    "turtle_screen = turtle.TurtleScreen(maze_canvas)\n",
    "turtle_screen.clear()\n",
    "\n",
    "print(\"Setup Complete\")"
   ]
  },
  {
   "cell_type": "markdown",
   "id": "bfb9578496852f30",
   "metadata": {},
   "source": [
    "# Creating a Maze\n",
    "\n",
    "Your first challenge will be to move a turtle around by writing python code. But it will be more enjoyable if there is a _reason_ why the turtle needs to move around. Let's make a maze and a goal!\n",
    "\n",
    "## Importing Modules\n",
    "\n",
    "There are a few hundred lines of code \"hidden\" in a module next to this notebook, called maze_maker. Moving them there keeps this notebook cleaner and easier to understand. (You can read the code by using the file navigator in the left portion of this page, but it's not necessary for your challenge today.) Programmers use this technique of hiding the details of how something works a _lot_; the technique even has a jargon name: \"Abstraction.\""
   ]
  },
  {
   "cell_type": "code",
   "execution_count": 2,
   "id": "2cb2a2a8ea47083f",
   "metadata": {},
   "outputs": [
    {
     "data": {
      "application/vnd.jupyter.widget-view+json": {
       "model_id": "86438b414f5f4bbc80cc5704b40c385e",
       "version_major": 2,
       "version_minor": 0
      },
      "text/plain": [
       "Canvas(height=300, width=500)"
      ]
     },
     "metadata": {},
     "output_type": "display_data"
    }
   ],
   "source": [
    "# allow this notebook to use some code prepared specifically for this exercise\n",
    "from maze_maker import generate_maze, draw_maze, make_maze_runner, start_maze\n",
    "\n",
    "# Describe the shape and size of the maze. Each spot that you might visit as part of a path\n",
    "# is called a \"cell.\"\n",
    "maze_block_size = 20 # in pixels\n",
    "num_maze_columns = canvas_width // maze_block_size\n",
    "num_maze_rows = canvas_height // maze_block_size\n",
    "\n",
    "# Try changing the value of random_maze_number and see what happens!\n",
    "random_maze_number = 434\n",
    "maze = generate_maze(num_maze_rows, num_maze_columns, random_maze_number)\n",
    "\n",
    "# The maze generated above is stored as \"plain\" data. Let's draw it on the screen!\n",
    "display(maze_canvas)\n",
    "draw_maze(turtle_screen, maze_canvas, canvas_width, canvas_height, maze_block_size, maze)\n",
    "\n",
    "# Finally, our hero will be a turtle named t. (a one-letter name is easy to type.)\n",
    "t = make_maze_runner(turtle_screen)"
   ]
  },
  {
   "cell_type": "code",
   "execution_count": 3,
   "id": "29cffb8ef49a51c4",
   "metadata": {},
   "outputs": [],
   "source": [
    "# Run this cell to see the turtle begin to make its way through the maze.\n",
    "\n",
    "start_maze(t, canvas_width, canvas_height, maze_block_size) # move the turtle to the top-left corner\n",
    "step = maze_block_size * 2 # this variable makes it easier to express how far to move.\n",
    "\n",
    "# The beginning of a path through the maze goes something like this:\n",
    "t.forward(step*2) # distances are in pixels\n",
    "t.right(90) # turn angles are in degrees, and are relative to direction turtle is facing at this time.\n",
    "t.forward(step*2)\n",
    "t.left(90)\n",
    "t.forward(step)\n",
    "t.right(90)\n",
    "t.forward(step)\n",
    "t.left(90)\n",
    "t.forward(step)\n",
    "t.right(90)\n",
    "t.forward(step)\n",
    "t.right(90)\n",
    "t.forward(step * 4)\n",
    "#\n",
    "# YOUR CODE GOES HERE\n",
    "#"
   ]
  },
  {
   "cell_type": "code",
   "execution_count": null,
   "id": "390e1423366017d",
   "metadata": {},
   "outputs": [],
   "source": []
  },
  {
   "cell_type": "markdown",
   "id": "2808219eba5e28a4",
   "metadata": {},
   "source": [
    "# Navigating the Maze\n",
    "\n",
    "By running the cell above, you see how your turtle can begin to make its way through the maze. Your challenge is: **Can you add more lines of code to the cell so that the turtle will make it all the way to the colored square somewhere in the maze?**\n",
    "\n",
    "_(**Note**: you may find it fun to work on a different maze. Try changing the values above for `random_maze_number`, `canvas_width`, `canvas_height`, and `cell_size` and see what happens!)_\n",
    "\n",
    "## Understanding Python\n",
    "\n",
    "Our lines of code where the turtle are moving around can be read somewhat like an English sentence, of the form:\n",
    "\n",
    "_Subject_ . _Verb_ ( _Details_ )\n",
    "\n",
    "There are many other ways to structure a line of Python code, but in this particular section, that's it.\n",
    "- The \"who are you talking to\" subject of your sentence comes first.\n",
    "- Then a dot indicates that you're about to ask them to do something they've been trained (programmed) to do.\n",
    "- The word after the dot indicates which trick they should perform\n",
    "- The parenthesis are how we indicate that this trick is something that the turtle _does_, not _has_.\n",
    "- Inside the parenthesis, we provide details about how we want the trick to be done.\n",
    "\n",
    "## Objects and Functions\n",
    "\n",
    "[Most of] programming can be thought of nothing more than a list of instructions given to various _objects_. What objects we keep track of, and what we ask them to do, and how we ask them to those \"tricks\"—that's what the mechanics of programming are.\n",
    "\n",
    "# But Why? And How?\n",
    "\n",
    "Because computers are much, much faster than humans at certain kinds of tasks. But they're really dumb, and can't fundamentally learn the way that humans do. (The entire field of Artificial Intelligence is a multi-decade quest by some of the world's cleverest researchers to find a way to make machines work a little more like the human mind. Those researchers have made remarkable progress!) In the meantime, we need to tell the computers what to do in excruciating detail. This skill is programming, and Artificial Intelligence development builds on top of that skill.\n",
    "\n",
    "For us humans who are working with computers, the most fundamental skill is probably: **how do you break down a complex task into manageable steps**? Keep looking for ways to do this in your next project!"
   ]
  },
  {
   "cell_type": "code",
   "execution_count": 13,
   "id": "97040c06502157bf",
   "metadata": {},
   "outputs": [
    {
     "data": {
      "application/vnd.jupyter.widget-view+json": {
       "model_id": "726a7fc8ae83452f90401738ecaf5c26",
       "version_major": 2,
       "version_minor": 0
      },
      "text/plain": [
       "Canvas(height=300, width=500)"
      ]
     },
     "metadata": {},
     "output_type": "display_data"
    }
   ],
   "source": [
    "circle_canvas = turtle.Canvas(canvas_width, canvas_height)\n",
    "circle_screen = turtle.TurtleScreen(circle_canvas)\n",
    "circle_screen.clear()\n",
    "display(circle_canvas)\n",
    "\n",
    "ringer = turtle.Turtle(circle_screen)\n",
    "ringer.shape(\"arrow\")\n",
    "ringer.width(3)\n",
    "\n",
    "ringer.penup()\n",
    "ringer.right(90)\n",
    "ringer.forward(100)\n",
    "ringer.pendown()\n",
    "ringer.left(90)\n",
    "\n",
    "# the for loop below will do something again and again!\n",
    "for _ in range(45):\n",
    "    ringer.forward(15)\n",
    "    ringer.left(8)\n",
    "\n"
   ]
  },
  {
   "cell_type": "code",
   "execution_count": 15,
   "id": "757a0d58-9685-4329-a8e4-dfec1a91fddd",
   "metadata": {},
   "outputs": [
    {
     "data": {
      "application/vnd.jupyter.widget-view+json": {
       "model_id": "93fa6fc606b0445ebe41f78244d62019",
       "version_major": 2,
       "version_minor": 0
      },
      "text/plain": [
       "Canvas(height=300, width=500)"
      ]
     },
     "metadata": {},
     "output_type": "display_data"
    }
   ],
   "source": [
    "scribble_canvas = turtle.Canvas(canvas_width, canvas_height)\n",
    "scribble_screen = turtle.TurtleScreen(scribble_canvas)\n",
    "scribble_screen.clear()\n",
    "display(scribble_canvas)\n",
    "\n",
    "\n",
    "scribbler = turtle.Turtle(scribble_screen)\n",
    "scribbler.shape(\"turtle\")\n",
    "scribbler.color(\"red\")\n",
    "\n",
    "for _ in range(30):\n",
    "    scribbler.left(random.randrange(-180,180))\n",
    "    scribbler.forward(random.randrange(0,40))\n"
   ]
  },
  {
   "cell_type": "code",
   "execution_count": 28,
   "id": "049dced4-986a-479d-bf4e-026e879e6f07",
   "metadata": {},
   "outputs": [
    {
     "data": {
      "application/vnd.jupyter.widget-view+json": {
       "model_id": "ea5de47c11a444f893cd21a5f6b3973a",
       "version_major": 2,
       "version_minor": 0
      },
      "text/plain": [
       "Canvas(height=300, width=500)"
      ]
     },
     "metadata": {},
     "output_type": "display_data"
    }
   ],
   "source": [
    "sun_canvas = turtle.Canvas(canvas_width, canvas_height)\n",
    "sun_screen = turtle.TurtleScreen(sun_canvas)\n",
    "sun_screen.clear()\n",
    "display(sun_canvas)\n",
    "\n",
    "sunny = turtle.Turtle(sun_screen)\n",
    "sunny.color(\"goldenrod\")\n",
    "sunny.penup()\n",
    "sunny.left(90)\n",
    "sunny.forward(canvas_height //4)\n",
    "sunny.left(90)\n",
    "sunny.forward(canvas_height // 2)\n",
    "sunny.right(150)\n",
    "\n",
    "triangle_side_size = 50\n",
    "\n",
    "for triangle_num in range(12):\n",
    "    sunny.penup()\n",
    "    sunny.forward(triangle_side_size)\n",
    "    sunny.right(30)\n",
    "    sunny.pendown()\n",
    "\n",
    "    for side_num in range(3):\n",
    "        sunny.forward(triangle_side_size)\n",
    "        sunny.left(120)\n"
   ]
  }
 ],
 "metadata": {
  "kernelspec": {
   "display_name": "Python 3 (ipykernel)",
   "language": "python",
   "name": "python3"
  },
  "language_info": {
   "codemirror_mode": {
    "name": "ipython",
    "version": 3
   },
   "file_extension": ".py",
   "mimetype": "text/x-python",
   "name": "python",
   "nbconvert_exporter": "python",
   "pygments_lexer": "ipython3",
   "version": "3.10.16"
  }
 },
 "nbformat": 4,
 "nbformat_minor": 5
}
