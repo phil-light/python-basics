{
 "cells": [
  {
   "cell_type": "code",
   "id": "initial_id",
   "metadata": {
    "collapsed": true
   },
   "source": [
    "import ipyturtle3 as turtle\n",
    "from ipyturtle3 import hold_canvas\n",
    "\n",
    "CANVAS_WIDTH = 500\n",
    "CANVAS_HEIGHT = 300\n",
    "\n",
    "myCanvas=turtle.Canvas(width=CANVAS_WIDTH,height=CANVAS_HEIGHT)\n",
    "display(myCanvas)\n",
    "myTS=turtle.TurtleScreen(myCanvas)\n",
    "myTS.clear()\n",
    "\n"
   ],
   "outputs": [],
   "execution_count": null
  },
  {
   "metadata": {},
   "cell_type": "code",
   "source": [
    "from maze_maker import generate_maze, draw_maze\n",
    "\n",
    "CELL_SIZE = 20\n",
    "MAZE_COLS = CANVAS_WIDTH // CELL_SIZE\n",
    "MAZE_ROWS = CANVAS_HEIGHT // CELL_SIZE\n",
    "# Maze grid: 0 = wall, 1 = path\n",
    "maze = [[0 for _ in range(MAZE_COLS)] for _ in range(MAZE_ROWS)]\n",
    "generate_maze(maze, MAZE_ROWS, MAZE_COLS, 1, 1)\n",
    "\n",
    "draw_maze( myTS, myCanvas, CANVAS_WIDTH, CANVAS_HEIGHT, CELL_SIZE, maze)"
   ],
   "id": "2cb2a2a8ea47083f",
   "outputs": [],
   "execution_count": null
  },
  {
   "metadata": {},
   "cell_type": "code",
   "source": [
    "myTS.clear()\n",
    "\n",
    "\n",
    "waller = turtle.Turtle(myTS, isHolonomic=True)\n",
    "waller.width(10)\n",
    "waller.penup()\n",
    "waller.moveleft(CANVAS_WIDTH // 2)\n",
    "waller.moveup(CANVAS_HEIGHT // 2)\n",
    "waller.pendown()\n",
    "\n",
    "\n",
    "with hold_canvas(myCanvas):\n",
    "    for r,row in enumerate(maze[::2]):\n",
    "        for c,is_clear in enumerate(row):\n",
    "            if c+1 == len(row):\n",
    "                waller.penup()\n",
    "                waller.moveleft(CANVAS_WIDTH - CELL_SIZE)\n",
    "                waller.movedown(CELL_SIZE * 2)\n",
    "            else:\n",
    "                if not is_clear and not row[c+1]:\n",
    "                    waller.pendown()\n",
    "                else:\n",
    "                    waller.penup()\n",
    "                waller.moveright(CELL_SIZE)\n",
    "\n",
    "    waller.penup()\n",
    "    waller.moveup(CANVAS_HEIGHT+CELL_SIZE)\n",
    "\n",
    "    transposed_iterator = zip(*maze)\n",
    "\n",
    "    for c, col in enumerate(transposed_iterator):\n",
    "        if c % 2 == 1:\n",
    "            waller.moveright(CELL_SIZE)\n",
    "        else:\n",
    "            for r,is_clear in enumerate(col):\n",
    "                if r+1 == len(maze):\n",
    "                    waller.penup()\n",
    "                    waller.moveright(CELL_SIZE)\n",
    "                    waller.moveup(CANVAS_HEIGHT - CELL_SIZE)\n",
    "                else:\n",
    "                    if not is_clear and not maze[r+1][c]:\n",
    "                        waller.pendown()\n",
    "                    else:\n",
    "                        waller.penup()\n",
    "                    waller.movedown(CELL_SIZE)"
   ],
   "id": "38b9f05e4d6a20eb",
   "outputs": [],
   "execution_count": null
  },
  {
   "metadata": {},
   "cell_type": "code",
   "source": [
    "runner = turtle.Turtle(myTS)\n",
    "runner.shape(\"turtle\")\n",
    "runner.color(\"crimson\")\n",
    "runner.penup()\n",
    "runner.left(90)\n",
    "runner.forward(130)\n",
    "runner.left(90)\n",
    "runner.forward(230)\n",
    "runner.left(180)"
   ],
   "id": "29cffb8ef49a51c4",
   "outputs": [],
   "execution_count": null
  }
 ],
 "metadata": {
  "kernelspec": {
   "display_name": "Python 3",
   "language": "python",
   "name": "python3"
  },
  "language_info": {
   "codemirror_mode": {
    "name": "ipython",
    "version": 2
   },
   "file_extension": ".py",
   "mimetype": "text/x-python",
   "name": "python",
   "nbconvert_exporter": "python",
   "pygments_lexer": "ipython2",
   "version": "2.7.6"
  }
 },
 "nbformat": 4,
 "nbformat_minor": 5
}
