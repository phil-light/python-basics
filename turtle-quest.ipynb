{
 "cells": [
  {
   "cell_type": "code",
   "id": "initial_id",
   "metadata": {
    "collapsed": true
   },
   "source": [
    "import ipyturtle3 as turtle\n",
    "from ipyturtle3 import hold_canvas\n",
    "from maze_maker import generate_maze\n",
    "myCanvas=turtle.Canvas(width=500,height=250)\n",
    "display(myCanvas)\n",
    "myTS=turtle.TurtleScreen(myCanvas)\n",
    "myTS.clear()\n",
    "\n",
    "# Rainbow benzene\n",
    "colors = ['red', 'purple', 'blue', 'green', 'orange', 'yellow']\n",
    "t = turtle.Turtle(myTS)\n",
    "myTS.bgcolor('dimgray')\n",
    "for x in range(30):\n",
    "    with(hold_canvas(myCanvas)):\n",
    "        t.pencolor(colors[x%6])\n",
    "        t.width(x//100 + 1)\n",
    "        t.forward(x)\n",
    "        t.left(59)"
   ],
   "outputs": [],
   "execution_count": null
  },
  {
   "metadata": {},
   "cell_type": "code",
   "source": [
    "from maze_maker import generate_maze\n",
    "\n",
    "CANVAS_WIDTH = 500\n",
    "CANVAS_HEIGHT = 250\n",
    "MAZE_COLS = 25\n",
    "MAZE_ROWS = 12\n",
    "# Maze grid: 0 = wall, 1 = path\n",
    "maze = [[0 for _ in range(MAZE_COLS)] for _ in range(MAZE_ROWS)]\n",
    "generate_maze(maze, MAZE_ROWS, MAZE_COLS, 1, 1)"
   ],
   "id": "2cb2a2a8ea47083f",
   "outputs": [],
   "execution_count": null
  },
  {
   "metadata": {},
   "cell_type": "code",
   "source": [
    "myTS.clear()\n",
    "\n",
    "\n",
    "waller = turtle.Turtle(myTS, isHolonomic=True)\n",
    "waller.width(10)\n",
    "waller.penup()\n",
    "waller.moveleft(240)\n",
    "waller.moveup(115)\n",
    "waller.pendown()\n",
    "\n",
    "with hold_canvas(myCanvas):\n",
    "    for r,row in enumerate(maze):\n",
    "        for c,is_clear in enumerate(row):\n",
    "            if c+1 == len(row):\n",
    "                waller.penup()\n",
    "                waller.moveleft(480)\n",
    "                waller.movedown(20)\n",
    "            else:\n",
    "                if not is_clear and not row[c+1]:\n",
    "                    waller.pendown()\n",
    "                else:\n",
    "                    waller.penup()\n",
    "                waller.moveright(20)\n",
    "\n",
    "    waller.penup()\n",
    "    waller.moveup(250)\n",
    "\n",
    "    transposed_iterator = zip(*maze)\n",
    "\n",
    "    for c, col in enumerate(transposed_iterator):\n",
    "        for r,is_clear in enumerate(col):\n",
    "            if r+1 == len(maze):\n",
    "                waller.penup()\n",
    "                waller.moveright(20)\n",
    "                waller.moveup(220)\n",
    "            else:\n",
    "                if not is_clear and not maze[r+1][c]:\n",
    "                    waller.pendown()\n",
    "                else:\n",
    "                    waller.penup()\n",
    "                waller.movedown(20)"
   ],
   "id": "38b9f05e4d6a20eb",
   "outputs": [],
   "execution_count": null
  },
  {
   "metadata": {},
   "cell_type": "code",
   "source": "",
   "id": "29cffb8ef49a51c4",
   "outputs": [],
   "execution_count": null
  }
 ],
 "metadata": {
  "kernelspec": {
   "display_name": "Python 3",
   "language": "python",
   "name": "python3"
  },
  "language_info": {
   "codemirror_mode": {
    "name": "ipython",
    "version": 2
   },
   "file_extension": ".py",
   "mimetype": "text/x-python",
   "name": "python",
   "nbconvert_exporter": "python",
   "pygments_lexer": "ipython2",
   "version": "2.7.6"
  }
 },
 "nbformat": 4,
 "nbformat_minor": 5
}
