{
 "cells": [
  {
   "cell_type": "code",
   "id": "initial_id",
   "metadata": {
    "collapsed": true
   },
   "source": [
    "import ipyturtle3 as turtle\n",
    "\n",
    "canvas_width = 500\n",
    "canvas_height = 300\n",
    "\n",
    "canvas=turtle.Canvas(canvas_width, canvas_height)\n",
    "display(canvas)\n",
    "turtle_screen = turtle.TurtleScreen(canvas)\n",
    "turtle_screen.clear()\n",
    "\n"
   ],
   "outputs": [],
   "execution_count": null
  },
  {
   "metadata": {},
   "cell_type": "code",
   "source": [
    "from maze_maker import generate_maze, draw_maze\n",
    "\n",
    "cell_size = 20\n",
    "num_maze_columns = canvas_width // cell_size\n",
    "num_maze_rows = canvas_height // cell_size\n",
    "\n",
    "maze = generate_maze(num_maze_rows, num_maze_columns, 1, 1)\n",
    "draw_maze(turtle_screen, canvas, canvas_width, canvas_height, cell_size, maze)"
   ],
   "id": "2cb2a2a8ea47083f",
   "outputs": [],
   "execution_count": null
  },
  {
   "metadata": {},
   "cell_type": "code",
   "source": [
    "runner = turtle.Turtle(turtle_screen)\n",
    "runner.shape(\"turtle\")\n",
    "runner.color(\"crimson\")\n",
    "runner.penup()\n",
    "runner.left(90)\n",
    "runner.forward(130)\n",
    "runner.left(90)\n",
    "runner.forward(230)\n",
    "runner.left(180)"
   ],
   "id": "29cffb8ef49a51c4",
   "outputs": [],
   "execution_count": null
  }
 ],
 "metadata": {
  "kernelspec": {
   "display_name": "Python 3",
   "language": "python",
   "name": "python3"
  },
  "language_info": {
   "codemirror_mode": {
    "name": "ipython",
    "version": 2
   },
   "file_extension": ".py",
   "mimetype": "text/x-python",
   "name": "python",
   "nbconvert_exporter": "python",
   "pygments_lexer": "ipython2",
   "version": "2.7.6"
  }
 },
 "nbformat": 4,
 "nbformat_minor": 5
}
