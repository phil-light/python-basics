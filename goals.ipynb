{
 "cells": [
  {
   "metadata": {},
   "cell_type": "markdown",
   "source": [
    "# Goals of Turtle Quest Notebook\n",
    "\n",
    "1. Illustrate how programming works if you've never done it before.\n",
    "2. Challenge you to edit and write code to accomplish a goal.\n",
    "    - We will begin by making a small turtle walk around on the screen.\n",
    "    - You will make the turtle go through a maze to reach the goal.\n"
   ],
   "id": "7ce7050e7b07c1e6"
  }
 ],
 "metadata": {
  "kernelspec": {
   "display_name": "Python 3",
   "language": "python",
   "name": "python3"
  },
  "language_info": {
   "codemirror_mode": {
    "name": "ipython",
    "version": 2
   },
   "file_extension": ".py",
   "mimetype": "text/x-python",
   "name": "python",
   "nbconvert_exporter": "python",
   "pygments_lexer": "ipython2",
   "version": "2.7.6"
  }
 },
 "nbformat": 4,
 "nbformat_minor": 5
}
